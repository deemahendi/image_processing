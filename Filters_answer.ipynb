{
 "cells": [
  {
   "cell_type": "code",
   "execution_count": 1,
   "metadata": {},
   "outputs": [
    {
     "data": {
      "text/plain": [
       "'This filter computes the output pixel by calculating the statistical mean of neighborhood pixels of input pixel.\\nMean filter replace each pixel in input image f with the average intensity in a 3 X 3 (or 5 X 5 or any other kernel) neighborhood of pixels centered there.\\nThen if g is the filtered image, it is defined by eq. 1'"
      ]
     },
     "execution_count": 1,
     "metadata": {},
     "output_type": "execute_result"
    }
   ],
   "source": [
    "'''#Q2 : what is the difference between median and Mean filtering? \n",
    "low pass filtering affected by differint intencity pixel value and its take in account the avg so the impact \n",
    " output not clear 'there's still noise in the img \n",
    " 'Median filter first sort the intensities of neighborhood pixels of input pixel in ascending order.\n",
    "Then set the intensity of output pixel equals to the statistical median of that sorted kernel.\n",
    "It works well compared to min, max and mid- point filters. It Works well for various noise types, \n",
    "with less  blurring than linear filters of similar size '''\n",
    "\n",
    "-----------------------------------------------------------------\n",
    "'''\n",
    "Mean\n",
    "This filter computes the output pixel by calculating the statistical mean of neighborhood pixels of input pixel.\n",
    "Mean filter replace each pixel in input image f with the average intensity in a 3 X 3 (or 5 X 5 or any other kernel) neighborhood of pixels centered there.\n",
    "Then if g is the filtered image, it is defined by eq. 1\n",
    "'''\n",
    "-----------------------------------------------------------------\n",
    "'''\n",
    " What are the drawbacks of low pass filters?\n",
    "A1  : the deatils not clear , may blur edges , more advanced techniqe\n",
    "\n",
    " Refrences : http://www.academia.edu/9149197/A_Study_of_Digital_Image_Filtering_Techniques_in_Spatial_Image_Processing\n",
    "'''"
   ]
  },
  {
   "cell_type": "code",
   "execution_count": null,
   "metadata": {
    "collapsed": true
   },
   "outputs": [],
   "source": []
  }
 ],
 "metadata": {
  "kernelspec": {
   "display_name": "Python 3",
   "language": "python",
   "name": "python3"
  },
  "language_info": {
   "codemirror_mode": {
    "name": "ipython",
    "version": 3
   },
   "file_extension": ".py",
   "mimetype": "text/x-python",
   "name": "python",
   "nbconvert_exporter": "python",
   "pygments_lexer": "ipython3",
   "version": "3.6.1"
  }
 },
 "nbformat": 4,
 "nbformat_minor": 2
}
