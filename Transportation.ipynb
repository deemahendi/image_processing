{
 "cells": [
  {
   "cell_type": "code",
   "execution_count": null,
   "metadata": {
    "collapsed": true
   },
   "outputs": [],
   "source": [
    "import cv2  # include  OpenCV library in my code\n",
    "import numpy as np # numpy library for array in python np is the object we use it with its function\n",
    "\n",
    "img = cv2.imread('images/deema.jpg',0) #import my image and save it in img variable , 0 mean convert the img into grayscale\n",
    "\n",
    "res = cv2.resize(img,None,fx=2, fy=2, interpolation = cv2.INTER_CUBIC)#resize function take the img and make zooming\n",
    "#type of my transformaion interpolation = cv2.INTER_CUBIC\n",
    "\n",
    "#OR\n",
    "\n",
    "height, width = img.shape[:2]\n",
    "res = cv2.resize(img,(2*width, 2*height), interpolation = cv2.INTER_CUBIC)\n",
    "cv2.imshow('resize 1', res);\n",
    "cv2.waitKey(0)\n",
    "cv2.destroyAllWindows()\n",
    "#the first Q is : What are the drawbacks of low pass filters?\n",
    "#A1  : the deatils not clear , may blur edges , more advanced techniqe\n",
    "#---------------------------------------------------------------------------------------------------\n",
    "#Q2 : what is the difference between median and Mean filtering? \n",
    "#low pass filtering affected by differint intencity pixel value and its take in account the avg so the impact \n",
    "# output not clear 'there's still noise in the img '"
   ]
  },
  {
   "cell_type": "code",
   "execution_count": null,
   "metadata": {
    "collapsed": true
   },
   "outputs": [],
   "source": [
    "#Translation\n",
    "import cv2\n",
    "import numpy as np\n",
    "\n",
    "img = cv2.imread('images/deema.jpg',0)\n",
    "rows,cols = img.shape\n",
    "\n",
    "M = np.float32([[1,0,100],[0,1,50]])\n",
    "dst = cv2.warpAffine(img,M,(cols,rows))\n",
    "\n",
    "cv2.imshow('img',dst)\n",
    "cv2.waitKey(0)\n",
    "cv2.destroyAllWindows()\n"
   ]
  },
  {
   "cell_type": "code",
   "execution_count": null,
   "metadata": {
    "collapsed": true
   },
   "outputs": [],
   "source": [
    "#Rotation\n",
    "img = cv2.imread('images/deema.jpg',0)\n",
    "rows,cols = img.shape\n",
    "\n",
    "M = cv2.getRotationMatrix2D((cols/2,rows/2),90,1)\n",
    "dst = cv2.warpAffine(img,M,(cols,rows))"
   ]
  }
 ],
 "metadata": {
  "kernelspec": {
   "display_name": "Python 3",
   "language": "python",
   "name": "python3"
  },
  "language_info": {
   "codemirror_mode": {
    "name": "ipython",
    "version": 3
   },
   "file_extension": ".py",
   "mimetype": "text/x-python",
   "name": "python",
   "nbconvert_exporter": "python",
   "pygments_lexer": "ipython3",
   "version": "3.6.1"
  }
 },
 "nbformat": 4,
 "nbformat_minor": 2
}
